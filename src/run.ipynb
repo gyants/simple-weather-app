{
 "cells": [
  {
   "cell_type": "code",
   "execution_count": 1,
   "metadata": {},
   "outputs": [],
   "source": [
    "from bs4 import BeautifulSoup\n",
    "import requests\n",
    "\n",
    "\n",
    "def get_google_weather(weather=\"\"):\n",
    "    url = f\"https://www.google.com/search?q=weather {weather}\"\n",
    "    response = requests.get(url)\n",
    "    if response.status_code != 200:\n",
    "        return None\n",
    "    return response"
   ]
  },
  {
   "cell_type": "code",
   "execution_count": 2,
   "metadata": {},
   "outputs": [],
   "source": [
    "html = get_google_weather(\"bangkok\").text\n",
    "soup = BeautifulSoup(html, \"html.parser\")\n",
    "weather_div = soup.find(\"div\", class_=\"Gx5Zad\")"
   ]
  },
  {
   "cell_type": "code",
   "execution_count": 3,
   "metadata": {},
   "outputs": [
    {
     "data": {
      "text/plain": [
       "['กรุงเทพมหานคร',\n",
       " ' / ',\n",
       " 'สภาพอากาศ',\n",
       " '33°C',\n",
       " '33°C',\n",
       " 'วันศุกร์ 14:13\\nมีเมฆบางส่วน',\n",
       " 'วันศุกร์ 14:13\\nมีเมฆบางส่วน',\n",
       " 'weather.com',\n",
       " 'weather.com',\n",
       " 'Bangkok, Bangkok, Thailand Weather Forecast - AccuWeather',\n",
       " 'www.accuweather.com › bangkok › weather-forecast',\n",
       " \"TODAY'S WEATHER FORECAST. 10/13. 92°Hi. RealFeel® 103°.Daily · Hourly · Current Weather · Radar\",\n",
       " \"TODAY'S WEATHER FORECAST. 10/13. 92°Hi. RealFeel® 103°.\",\n",
       " 'Daily · Hourly · Current Weather · Radar',\n",
       " 'Daily',\n",
       " 'Hourly',\n",
       " 'Current Weather',\n",
       " 'Radar',\n",
       " 'Bangkok, Bangkok, Thailand Daily Weather | AccuWeather',\n",
       " 'www.accuweather.com › bangkok › daily-weather-forecast',\n",
       " 'Cloudy; a morning thundershower in parts of the area followed by a passing shower in the afternoon. RealFeel®101°. RealFeel Shade™99°.',\n",
       " 'Cloudy; a morning thundershower in parts of the area followed by a passing shower in the afternoon. RealFeel®101°. RealFeel Shade™99°.',\n",
       " 'Bangkok - BBC Weather',\n",
       " 'www.bbc.com › weather',\n",
       " 'Hour by hour forecast ; 10 · 83° · 64% ; 11 · 84° · 54% ; 12 · 84° · 85% ; 13 · 85° · 48% ; 14 · 85° · 33%\\xa0...',\n",
       " 'Hour by hour forecast ; 10 · 83° · 64% ; 11 · 84° · 54% ; 12 · 84° · 85% ; 13 · 85° · 48% ; 14 · 85° · 33%\\xa0...',\n",
       " 'Bangkok, Thailand 14 day weather forecast - Time and Date',\n",
       " 'www.timeanddate.com › Weather › Thailand › Bangkok',\n",
       " 'Bangkok Extended Forecast with high and low temperatures. °F · Last 2 weeks of weather. Time. Wind (mph). Rain/Snow (). Temp (°F).',\n",
       " 'Bangkok Extended Forecast with high and low temperatures. °F · Last 2 weeks of weather. Time. Wind (mph). Rain/Snow (). Temp (°F).',\n",
       " 'Watthana, Thailand Weather Forecast and Conditions',\n",
       " 'weather.com › weather › today › Watthana+Thailand',\n",
       " 'Chance of Rain23% · Afternoon. 90°. Chance of Rain37% · Evening. 82°. Chance of Rain54% · Overnight. 82°. Chance of Rain14%. Latest News.',\n",
       " 'Chance of Rain23% · Afternoon. 90°. Chance of Rain37% · Evening. 82°. Chance of Rain54% · Overnight. 82°. Chance of Rain14%. Latest News.',\n",
       " 'เรดาร์',\n",
       " 'weather.bangkok.go.th › radar',\n",
       " 'วันที่ 13 ตุลาคม 2566 เวลา 13.00 น. / กทม. ฝนเล็กน้อยเขตบางขุนเทียน จ.สมุทรปราการ เคลื่อนตัวทิศตะวันตกเฉียงใต้ แนวโน้มลดลง 13 Oct 2023.',\n",
       " 'วันที่ 13 ตุลาคม 2566 เวลา 13.00 น. / กทม. ฝนเล็กน้อยเขตบางขุนเทียน จ.สมุทรปราการ เคลื่อนตัวทิศตะวันตกเฉียงใต้ แนวโน้มลดลง 13 Oct 2023.',\n",
       " 'คําถามอื่นๆ',\n",
       " 'Watthana, Thailand 10-Day Weather Forecast',\n",
       " 'weather.com › weather › tenday › Watthana+Thailand',\n",
       " '10 Day Weather-Watthana, Thailand. As of 2:52 am GMT+07:00. Tonight. --/78°. 30%. Thu 12 | Night. 78°. 30%. NNW 4 mph. Partly cloudy with isolated\\xa0...',\n",
       " '10 Day Weather-Watthana, Thailand. As of 2:52 am GMT+07:00. Tonight. --/78°. 30%. Thu 12 | Night. 78°. 30%. NNW 4 mph. Partly cloudy with isolated\\xa0...',\n",
       " 'Bangkok (Thailand) weather - Met Office',\n",
       " 'www.metoffice.gov.uk › weather › forecast',\n",
       " 'Bangkok 7 day weather forecast including weather warnings, temperature, rain ... Temperature Temperature in °C Choose temperature units. °C, °F. i. 27°. 26°. 26\\xa0...',\n",
       " 'Bangkok 7 day weather forecast including weather warnings, temperature, rain ... Temperature Temperature in °C Choose temperature units. °C, °F. i. 27°. 26°. 26\\xa0...',\n",
       " 'กรุงเทพมหานคร (Bangkok) - Weather Forecast Maps | Ventusky',\n",
       " 'www.ventusky.com › bangkok',\n",
       " 'กรุงเทพมหานคร (Bangkok) ☀ ✓ Weather forecast for 10 days, information from meteorological stations, webcams, sunrise and sunset, wind and precipitation\\xa0...',\n",
       " 'กรุงเทพมหานคร (Bangkok) ☀ ✓ Weather forecast for 10 days, information from meteorological stations, webcams, sunrise and sunset, wind and precipitation\\xa0...',\n",
       " 'Weather Forecast Bangkok - Thailand : free 15 day weather forecasts',\n",
       " 'www.weathercrave.com › Weather › Thailand › Bangkok',\n",
       " \"Several clouds, but also several good clear periods. Risk of showers at the start of the night. Risk of rain 35 %. Tomorrow's weather. Weekend weather.\",\n",
       " \"Several clouds, but also several good clear periods. Risk of showers at the start of the night. Risk of rain 35 %. Tomorrow's weather. Weekend weather.\",\n",
       " 'การค้นหาเพิ่มเติม',\n",
       " 'Bangkok weather forecast 7 days',\n",
       " \"What's the weather\",\n",
       " 'Weather Thailand',\n",
       " 'Weather forecast คือ',\n",
       " 'Weather 10 days',\n",
       " 'Weather today',\n",
       " 'weather forecast เขาใหญ่',\n",
       " 'Weather bangkok radar']"
      ]
     },
     "execution_count": 3,
     "metadata": {},
     "output_type": "execute_result"
    }
   ],
   "source": [
    "def extract_text(response):\n",
    "    html = response.text\n",
    "    soup = BeautifulSoup(html, \"html.parser\")\n",
    "    weather_div = soup.find(\"div\", class_=\"Gx5Zad\")  # class for weather card\n",
    "    text_class = soup.find_all(class_=\"BNeawe\")\n",
    "    text = [i.get_text() for i in text_class]\n",
    "    return text\n",
    "\n",
    "extract_text(get_google_weather(\"bangkok\"))"
   ]
  },
  {
   "cell_type": "code",
   "execution_count": null,
   "metadata": {},
   "outputs": [],
   "source": []
  }
 ],
 "metadata": {
  "kernelspec": {
   "display_name": "Python 3",
   "language": "python",
   "name": "python3"
  },
  "language_info": {
   "codemirror_mode": {
    "name": "ipython",
    "version": 3
   },
   "file_extension": ".py",
   "mimetype": "text/x-python",
   "name": "python",
   "nbconvert_exporter": "python",
   "pygments_lexer": "ipython3",
   "version": "3.11.6"
  }
 },
 "nbformat": 4,
 "nbformat_minor": 2
}
